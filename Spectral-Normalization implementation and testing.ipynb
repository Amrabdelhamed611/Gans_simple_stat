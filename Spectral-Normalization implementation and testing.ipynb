{
 "cells": [
  {
   "cell_type": "markdown",
   "id": "31925fea",
   "metadata": {
    "toc": true
   },
   "source": [
    "<h1>Table of Contents<span class=\"tocSkip\"></span></h1>\n",
    "<div class=\"toc\"><ul class=\"toc-item\"><li><span><a href=\"#imports\" data-toc-modified-id=\"imports-1\"><span class=\"toc-item-num\">1&nbsp;&nbsp;</span>imports</a></span></li><li><span><a href=\"#spectral-norm-from-scartch\" data-toc-modified-id=\"spectral-norm-from-scartch-2\"><span class=\"toc-item-num\">2&nbsp;&nbsp;</span>spectral norm from scartch</a></span></li><li><span><a href=\"#Testing\" data-toc-modified-id=\"Testing-3\"><span class=\"toc-item-num\">3&nbsp;&nbsp;</span>Testing</a></span></li><li><span><a href=\"#Resources-used\" data-toc-modified-id=\"Resources-used-4\"><span class=\"toc-item-num\">4&nbsp;&nbsp;</span>Resources used</a></span></li></ul></div>"
   ]
  },
  {
   "cell_type": "markdown",
   "id": "999f4d3b",
   "metadata": {},
   "source": [
    "# imports\n"
   ]
  },
  {
   "cell_type": "code",
   "execution_count": 1,
   "id": "833d1943",
   "metadata": {
    "ExecuteTime": {
     "end_time": "2021-11-09T17:45:53.686403Z",
     "start_time": "2021-11-09T17:45:52.521519Z"
    }
   },
   "outputs": [
    {
     "data": {
      "text/plain": [
       "<torch._C.Generator at 0x26edceee138>"
      ]
     },
     "execution_count": 1,
     "metadata": {},
     "output_type": "execute_result"
    }
   ],
   "source": [
    "import torch\n",
    "from torch import nn\n",
    "#from tqdm.auto import tqdm\n",
    "from torchvision import transforms\n",
    "from torchvision.datasets import MNIST\n",
    "from torchvision.utils import make_grid\n",
    "from torch.utils.data import DataLoader\n",
    "import matplotlib.pyplot as plt\n",
    "import torch.nn.utils.parametrize as parametrize\n",
    "torch.manual_seed(0)"
   ]
  },
  {
   "cell_type": "code",
   "execution_count": 2,
   "id": "7dca353d",
   "metadata": {
    "ExecuteTime": {
     "end_time": "2021-11-09T17:45:53.702361Z",
     "start_time": "2021-11-09T17:45:53.687401Z"
    }
   },
   "outputs": [
    {
     "data": {
      "text/plain": [
       "False"
      ]
     },
     "execution_count": 2,
     "metadata": {},
     "output_type": "execute_result"
    }
   ],
   "source": [
    "torch.cuda.device_count() \n",
    "torch.cuda.is_available()"
   ]
  },
  {
   "cell_type": "code",
   "execution_count": 3,
   "id": "696ca6db",
   "metadata": {
    "ExecuteTime": {
     "end_time": "2021-11-09T17:45:53.717547Z",
     "start_time": "2021-11-09T17:45:53.703358Z"
    }
   },
   "outputs": [],
   "source": [
    "# crate random input x \n",
    "x= torch.rand((1,1,4,4))\n",
    "# crate weights initialization method with random seed to generate same initialization values each call\n",
    "#(only used for test my implemtion for spectral norm to compare different implementation )\n",
    "def weights_init(m):\n",
    "    if isinstance(m, nn.Conv2d):\n",
    "        torch.manual_seed(61)\n",
    "        torch.nn.init.xavier_normal_(m.weight)\n",
    "        "
   ]
  },
  {
   "cell_type": "markdown",
   "id": "c96cef78",
   "metadata": {},
   "source": [
    "# spectral norm from scartch "
   ]
  },
  {
   "cell_type": "code",
   "execution_count": 4,
   "id": "0d868a3e",
   "metadata": {
    "ExecuteTime": {
     "end_time": "2021-11-09T17:45:53.733533Z",
     "start_time": "2021-11-09T17:45:53.718545Z"
    }
   },
   "outputs": [],
   "source": [
    "\n",
    "class sp(nn.Module):\n",
    "    def forward(self, w,n_power_itter=1):\n",
    "        norm = lambda a:(a/torch.norm(a))  # norm: normlization function  \n",
    "        rows = w.shape[0]                # rows of the tensor \n",
    "        cols = w.view(rows, -1).shape[1] # columens of the tensor \n",
    "        w_vec=w.view(rows,-1)            # weights tensor to vector\n",
    "        #print(\"rows : \",rows)               # prints for debug\n",
    "        #print(\"cols : \",cols)\n",
    "        u = norm(torch.randn((rows,1)))   # intalize u , v vectors \n",
    "        v = norm(torch.randn((cols,1)))\n",
    "        #print(\"u: \",u.shape)                  # more prints for debug\n",
    "        #print(\"v: \",v.shape)\n",
    "        #print(\"w_vec: \",w_vec.shape)\n",
    "        for _ in range(n_power_itter):               \n",
    "            v =norm(torch.matmul(w_vec.T,u))\n",
    "            u =norm(torch.matmul(w_vec,v))\n",
    "        #print(\"u: \",u.shape)\n",
    "        #print(\"v: \",v.shape)\n",
    "        #print(\"w_vec: \",w_vec.shape)\n",
    "        sigma_w =torch.matmul(u.T ,torch.matmul(w_vec,v))   \n",
    "        #print(sigma)\n",
    "        return w / sigma_w"
   ]
  },
  {
   "cell_type": "markdown",
   "id": "9dc5e980",
   "metadata": {
    "ExecuteTime": {
     "start_time": "2021-11-09T07:33:56.148Z"
    }
   },
   "source": [
    "# Testing\n",
    "create 3 models with same wights each has one convolution layer :\n",
    "1. model with only convolution layer.\n",
    "2. model with spectral norm and convolution layer using spectral norm from pythorch .\n",
    "3. model with spectral norm and convolution layer using my weights wrapper layer."
   ]
  },
  {
   "cell_type": "code",
   "execution_count": 5,
   "id": "4ddb1945",
   "metadata": {
    "ExecuteTime": {
     "end_time": "2021-11-09T17:45:53.748463Z",
     "start_time": "2021-11-09T17:45:53.734502Z"
    }
   },
   "outputs": [
    {
     "name": "stdout",
     "output_type": "stream",
     "text": [
      "----State_dict----\n",
      "OrderedDict([('0.weight', tensor([[[[-0.3380, -0.0287,  0.0131],\n",
      "          [-0.1364,  0.1259,  0.2268],\n",
      "          [-0.1098, -0.1079,  0.0697]]]]))])\n",
      "..output..\n",
      "tensor([[[[-0.1335, -0.1611],\n",
      "          [-0.0193, -0.1820]]]], grad_fn=<ThnnConv2DBackward0>)\n",
      "----out----\n"
     ]
    }
   ],
   "source": [
    "# create one cov layer without spectral norm to compare my implementation resultes with the frame work  \n",
    "model = nn.Sequential(\n",
    "                    nn.Conv2d(in_channels=1, out_channels=1, kernel_size =3,stride= 1,bias=False).apply(weights_init)\n",
    "                        )\n",
    " \n",
    "model = model.apply(weights_init)\n",
    "#inspect the wieght and one forward pass \n",
    "print(\"----State_dict----\")\n",
    "print(model.state_dict())\n",
    "print(\"..output..\")\n",
    "print(model(x))\n",
    "print(\"----out----\")"
   ]
  },
  {
   "cell_type": "code",
   "execution_count": 6,
   "id": "84d96bfe",
   "metadata": {
    "ExecuteTime": {
     "end_time": "2021-11-09T17:45:53.763423Z",
     "start_time": "2021-11-09T17:45:53.749461Z"
    }
   },
   "outputs": [
    {
     "name": "stdout",
     "output_type": "stream",
     "text": [
      "----State_dict----\n",
      "OrderedDict([('0.weight_orig', tensor([[[[-0.3380, -0.0287,  0.0131],\n",
      "          [-0.1364,  0.1259,  0.2268],\n",
      "          [-0.1098, -0.1079,  0.0697]]]])), ('0.weight_u', tensor([1.])), ('0.weight_v', tensor([ 0.0548,  0.3553, -0.4458,  0.3996,  0.0275, -0.0919,  0.4769, -0.1042,\n",
      "         0.5146]))])\n",
      "..output..\n",
      "tensor([[[[-0.2786, -0.3360],\n",
      "          [-0.0403, -0.3798]]]], grad_fn=<ThnnConv2DBackward0>)\n",
      "----out----\n"
     ]
    }
   ],
   "source": [
    "# create one layer with spectral norm to compare my implementation resultes with the frame work  \n",
    "model_sp = nn.Sequential(\n",
    "                nn.utils.spectral_norm(\n",
    "                    nn.Conv2d(in_channels=1, out_channels=1, kernel_size =3,stride= 1,bias=False).apply(weights_init),\n",
    "                           n_power_iterations=10)\n",
    "                        )\n",
    " \n",
    "model_sp = model_sp.apply(weights_init)\n",
    "#inspect the wieght and one forward pass \n",
    "print(\"----State_dict----\")\n",
    "print(model_sp.state_dict())\n",
    "print(\"..output..\")\n",
    "print(model_sp(x))\n",
    "print(\"----out----\")"
   ]
  },
  {
   "cell_type": "code",
   "execution_count": 7,
   "id": "1d16b7bf",
   "metadata": {
    "ExecuteTime": {
     "end_time": "2021-11-09T17:45:53.779381Z",
     "start_time": "2021-11-09T17:45:53.764422Z"
    }
   },
   "outputs": [
    {
     "name": "stdout",
     "output_type": "stream",
     "text": [
      "----State_dict----\n",
      "OrderedDict([('0.parametrizations.weight.original', tensor([[[[-0.3380, -0.0287,  0.0131],\n",
      "          [-0.1364,  0.1259,  0.2268],\n",
      "          [-0.1098, -0.1079,  0.0697]]]]))])\n",
      "..output..\n",
      "tensor([[[[-0.2786, -0.3360],\n",
      "          [-0.0403, -0.3798]]]], grad_fn=<ThnnConv2DBackward0>)\n",
      "----out----\n"
     ]
    }
   ],
   "source": [
    "model_my= nn.Sequential(\n",
    "    parametrize.register_parametrization(\n",
    "        nn.Conv2d(in_channels=1, out_channels=1, kernel_size =3,stride= 1,bias=False).apply(weights_init),\"weight\", sp()\n",
    "    ))\n",
    "#inspect the wieght and one forward pass to make sure it equals the layer with spectral_norm\n",
    "print(\"----State_dict----\")\n",
    "print(model_my.state_dict())\n",
    "print(\"..output..\")\n",
    "print(model_my(x))\n",
    "print(\"----out----\")"
   ]
  },
  {
   "cell_type": "markdown",
   "id": "1e34a103",
   "metadata": {
    "ExecuteTime": {
     "end_time": "2021-11-09T04:14:56.273361Z",
     "start_time": "2021-11-09T04:14:56.258194Z"
    }
   },
   "source": [
    "my weights wrapper layer gaves the same output as using spectral norm from pythorch.so i believe the code work  fine in gan model."
   ]
  },
  {
   "cell_type": "markdown",
   "id": "7bb343f3",
   "metadata": {
    "ExecuteTime": {
     "end_time": "2021-11-09T04:15:13.671455Z",
     "start_time": "2021-11-09T04:15:13.641569Z"
    }
   },
   "source": [
    "# Resources used\n",
    "\n",
    "* [SPECTRAL NORMALIZATION FOR GENERATIVE ADVERSARIAL NETWORKS](https://arxiv.org/pdf/1802.05957v1.pdf)\n",
    "* [github , pytorch-spectral-normalization-gan , by :christiancosgrove ](https://github.com/christiancosgrove/pytorch-spectral-normalization-gan/blob/12dcf945a6359301d63d1e0da3708cd0f0590b19/spectral_normalization.py#L14)\n",
    "* [towardsdatascience ](https://towardsdatascience.com/lipschitz-continuity-and-spectral-normalization-b03b36066b0d)\n",
    "* [medium](https://jonathan-hui.medium.com/gan-spectral-normalization-893b6a4e8f53)"
   ]
  },
  {
   "cell_type": "code",
   "execution_count": null,
   "id": "f96e4934",
   "metadata": {},
   "outputs": [],
   "source": []
  }
 ],
 "metadata": {
  "kernelspec": {
   "display_name": "Python [conda env:pt36]",
   "language": "python",
   "name": "conda-env-pt36-py"
  },
  "language_info": {
   "codemirror_mode": {
    "name": "ipython",
    "version": 3
   },
   "file_extension": ".py",
   "mimetype": "text/x-python",
   "name": "python",
   "nbconvert_exporter": "python",
   "pygments_lexer": "ipython3",
   "version": "3.6.13"
  },
  "toc": {
   "base_numbering": 1,
   "nav_menu": {},
   "number_sections": true,
   "sideBar": true,
   "skip_h1_title": false,
   "title_cell": "Table of Contents",
   "title_sidebar": "Contents",
   "toc_cell": true,
   "toc_position": {},
   "toc_section_display": true,
   "toc_window_display": true
  }
 },
 "nbformat": 4,
 "nbformat_minor": 5
}
